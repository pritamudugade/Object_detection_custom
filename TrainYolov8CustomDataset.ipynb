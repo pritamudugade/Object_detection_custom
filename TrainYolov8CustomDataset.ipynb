{
  "nbformat": 4,
  "nbformat_minor": 0,
  "metadata": {
    "colab": {
      "provenance": [],
      "gpuType": "T4"
    },
    "kernelspec": {
      "name": "python3",
      "display_name": "Python 3"
    },
    "language_info": {
      "name": "python"
    },
    "accelerator": "GPU"
  },
  "cells": [
    {
      "cell_type": "code",
      "execution_count": 1,
      "metadata": {
        "colab": {
          "base_uri": "https://localhost:8080/"
        },
        "id": "Dob4YRhec9Fm",
        "outputId": "bd3064cc-c3d3-4239-98ff-f64f30b53ed5"
      },
      "outputs": [
        {
          "output_type": "stream",
          "name": "stdout",
          "text": [
            "Drive already mounted at /content/gdrive; to attempt to forcibly remount, call drive.mount(\"/content/gdrive\", force_remount=True).\n"
          ]
        }
      ],
      "source": [
        "from google.colab import drive\n",
        "\n",
        "drive.mount('/content/gdrive')"
      ]
    },
    {
      "cell_type": "code",
      "source": [
        "ROOT_DIR = '/content/gdrive/My Drive/IntruderDetectionYOLOv8.v1i.yolov7pytorch'"
      ],
      "metadata": {
        "id": "xBHfolzSdnR5"
      },
      "execution_count": 2,
      "outputs": []
    },
    {
      "cell_type": "code",
      "source": [
        "!pip install ultralytics"
      ],
      "metadata": {
        "id": "i8yghpa4eEjd",
        "colab": {
          "base_uri": "https://localhost:8080/"
        },
        "outputId": "6ab0d712-b1d1-4720-98d0-3fa7e83b30ff"
      },
      "execution_count": 3,
      "outputs": [
        {
          "output_type": "stream",
          "name": "stdout",
          "text": [
            "Requirement already satisfied: ultralytics in /usr/local/lib/python3.10/dist-packages (8.0.147)\n",
            "Requirement already satisfied: matplotlib>=3.2.2 in /usr/local/lib/python3.10/dist-packages (from ultralytics) (3.7.1)\n",
            "Requirement already satisfied: numpy>=1.22.2 in /usr/local/lib/python3.10/dist-packages (from ultralytics) (1.22.4)\n",
            "Requirement already satisfied: opencv-python>=4.6.0 in /usr/local/lib/python3.10/dist-packages (from ultralytics) (4.7.0.72)\n",
            "Requirement already satisfied: pillow>=7.1.2 in /usr/local/lib/python3.10/dist-packages (from ultralytics) (9.4.0)\n",
            "Requirement already satisfied: pyyaml>=5.3.1 in /usr/local/lib/python3.10/dist-packages (from ultralytics) (6.0.1)\n",
            "Requirement already satisfied: requests>=2.23.0 in /usr/local/lib/python3.10/dist-packages (from ultralytics) (2.27.1)\n",
            "Requirement already satisfied: scipy>=1.4.1 in /usr/local/lib/python3.10/dist-packages (from ultralytics) (1.10.1)\n",
            "Requirement already satisfied: torch>=1.7.0 in /usr/local/lib/python3.10/dist-packages (from ultralytics) (2.0.1+cu118)\n",
            "Requirement already satisfied: torchvision>=0.8.1 in /usr/local/lib/python3.10/dist-packages (from ultralytics) (0.15.2+cu118)\n",
            "Requirement already satisfied: tqdm>=4.64.0 in /usr/local/lib/python3.10/dist-packages (from ultralytics) (4.65.0)\n",
            "Requirement already satisfied: pandas>=1.1.4 in /usr/local/lib/python3.10/dist-packages (from ultralytics) (1.5.3)\n",
            "Requirement already satisfied: seaborn>=0.11.0 in /usr/local/lib/python3.10/dist-packages (from ultralytics) (0.12.2)\n",
            "Requirement already satisfied: psutil in /usr/local/lib/python3.10/dist-packages (from ultralytics) (5.9.5)\n",
            "Requirement already satisfied: py-cpuinfo in /usr/local/lib/python3.10/dist-packages (from ultralytics) (9.0.0)\n",
            "Requirement already satisfied: contourpy>=1.0.1 in /usr/local/lib/python3.10/dist-packages (from matplotlib>=3.2.2->ultralytics) (1.1.0)\n",
            "Requirement already satisfied: cycler>=0.10 in /usr/local/lib/python3.10/dist-packages (from matplotlib>=3.2.2->ultralytics) (0.11.0)\n",
            "Requirement already satisfied: fonttools>=4.22.0 in /usr/local/lib/python3.10/dist-packages (from matplotlib>=3.2.2->ultralytics) (4.41.1)\n",
            "Requirement already satisfied: kiwisolver>=1.0.1 in /usr/local/lib/python3.10/dist-packages (from matplotlib>=3.2.2->ultralytics) (1.4.4)\n",
            "Requirement already satisfied: packaging>=20.0 in /usr/local/lib/python3.10/dist-packages (from matplotlib>=3.2.2->ultralytics) (23.1)\n",
            "Requirement already satisfied: pyparsing>=2.3.1 in /usr/local/lib/python3.10/dist-packages (from matplotlib>=3.2.2->ultralytics) (3.1.0)\n",
            "Requirement already satisfied: python-dateutil>=2.7 in /usr/local/lib/python3.10/dist-packages (from matplotlib>=3.2.2->ultralytics) (2.8.2)\n",
            "Requirement already satisfied: pytz>=2020.1 in /usr/local/lib/python3.10/dist-packages (from pandas>=1.1.4->ultralytics) (2022.7.1)\n",
            "Requirement already satisfied: urllib3<1.27,>=1.21.1 in /usr/local/lib/python3.10/dist-packages (from requests>=2.23.0->ultralytics) (1.26.16)\n",
            "Requirement already satisfied: certifi>=2017.4.17 in /usr/local/lib/python3.10/dist-packages (from requests>=2.23.0->ultralytics) (2023.7.22)\n",
            "Requirement already satisfied: charset-normalizer~=2.0.0 in /usr/local/lib/python3.10/dist-packages (from requests>=2.23.0->ultralytics) (2.0.12)\n",
            "Requirement already satisfied: idna<4,>=2.5 in /usr/local/lib/python3.10/dist-packages (from requests>=2.23.0->ultralytics) (3.4)\n",
            "Requirement already satisfied: filelock in /usr/local/lib/python3.10/dist-packages (from torch>=1.7.0->ultralytics) (3.12.2)\n",
            "Requirement already satisfied: typing-extensions in /usr/local/lib/python3.10/dist-packages (from torch>=1.7.0->ultralytics) (4.7.1)\n",
            "Requirement already satisfied: sympy in /usr/local/lib/python3.10/dist-packages (from torch>=1.7.0->ultralytics) (1.11.1)\n",
            "Requirement already satisfied: networkx in /usr/local/lib/python3.10/dist-packages (from torch>=1.7.0->ultralytics) (3.1)\n",
            "Requirement already satisfied: jinja2 in /usr/local/lib/python3.10/dist-packages (from torch>=1.7.0->ultralytics) (3.1.2)\n",
            "Requirement already satisfied: triton==2.0.0 in /usr/local/lib/python3.10/dist-packages (from torch>=1.7.0->ultralytics) (2.0.0)\n",
            "Requirement already satisfied: cmake in /usr/local/lib/python3.10/dist-packages (from triton==2.0.0->torch>=1.7.0->ultralytics) (3.25.2)\n",
            "Requirement already satisfied: lit in /usr/local/lib/python3.10/dist-packages (from triton==2.0.0->torch>=1.7.0->ultralytics) (16.0.6)\n",
            "Requirement already satisfied: six>=1.5 in /usr/local/lib/python3.10/dist-packages (from python-dateutil>=2.7->matplotlib>=3.2.2->ultralytics) (1.16.0)\n",
            "Requirement already satisfied: MarkupSafe>=2.0 in /usr/local/lib/python3.10/dist-packages (from jinja2->torch>=1.7.0->ultralytics) (2.1.3)\n",
            "Requirement already satisfied: mpmath>=0.19 in /usr/local/lib/python3.10/dist-packages (from sympy->torch>=1.7.0->ultralytics) (1.3.0)\n"
          ]
        }
      ]
    },
    {
      "cell_type": "code",
      "source": [
        "import os\n",
        "\n",
        "from ultralytics import YOLO\n",
        "\n",
        "\n",
        "# Load a model\n",
        "model = YOLO(\"custom.yaml\")  # build a new model from scratch\n",
        "\n",
        "# Use the model\n",
        "results = model.train(data=os.path.join(\"config.yaml\"), epochs=1)  # train the model\n"
      ],
      "metadata": {
        "id": "oyZJX6PVfE7J",
        "colab": {
          "base_uri": "https://localhost:8080/"
        },
        "outputId": "7372a3f4-5689-425a-88e6-bd4bb4b92034"
      },
      "execution_count": 7,
      "outputs": [
        {
          "output_type": "stream",
          "name": "stderr",
          "text": [
            "WARNING ⚠️ no model scale passed. Assuming scale='x'.\n",
            "\n",
            "                   from  n    params  module                                       arguments                     \n",
            "  0                  -1  1      2320  ultralytics.nn.modules.conv.Conv             [3, 80, 3, 2]                 \n",
            "  1                  -1  1    115520  ultralytics.nn.modules.conv.Conv             [80, 160, 3, 2]               \n",
            "  2                  -1  3    436800  ultralytics.nn.modules.block.C2f             [160, 160, 3, True]           \n",
            "  3                  -1  1    461440  ultralytics.nn.modules.conv.Conv             [160, 320, 3, 2]              \n",
            "  4                  -1  6   3281920  ultralytics.nn.modules.block.C2f             [320, 320, 6, True]           \n",
            "  5                  -1  1   1844480  ultralytics.nn.modules.conv.Conv             [320, 640, 3, 2]              \n",
            "  6                  -1  6  13117440  ultralytics.nn.modules.block.C2f             [640, 640, 6, True]           \n",
            "  7                  -1  1   7375360  ultralytics.nn.modules.conv.Conv             [640, 1280, 3, 2]             \n",
            "  8                  -1  3  27865600  ultralytics.nn.modules.block.C2f             [1280, 1280, 3, True]         \n",
            "  9                  -1  1   4099840  ultralytics.nn.modules.block.SPPF            [1280, 1280, 5]               \n",
            " 10                  -1  1         0  torch.nn.modules.upsampling.Upsample         [None, 2, 'nearest']          \n",
            " 11             [-1, 6]  1         0  ultralytics.nn.modules.conv.Concat           [1]                           \n",
            " 12                  -1  3   7788800  ultralytics.nn.modules.block.C2f             [1920, 640, 3]                \n",
            " 13                  -1  1         0  torch.nn.modules.upsampling.Upsample         [None, 2, 'nearest']          \n",
            " 14             [-1, 4]  1         0  ultralytics.nn.modules.conv.Concat           [1]                           \n",
            " 15                  -1  3   1948800  ultralytics.nn.modules.block.C2f             [960, 320, 3]                 \n",
            " 16                  -1  1    922240  ultralytics.nn.modules.conv.Conv             [320, 320, 3, 2]              \n",
            " 17            [-1, 12]  1         0  ultralytics.nn.modules.conv.Concat           [1]                           \n",
            " 18                  -1  3   7174400  ultralytics.nn.modules.block.C2f             [960, 640, 3]                 \n",
            " 19                  -1  1   3687680  ultralytics.nn.modules.conv.Conv             [640, 640, 3, 2]              \n",
            " 20             [-1, 9]  1         0  ultralytics.nn.modules.conv.Concat           [1]                           \n",
            " 21                  -1  3  28684800  ultralytics.nn.modules.block.C2f             [1920, 1280, 3]               \n",
            " 22        [15, 18, 21]  1  11025820  ultralytics.nn.modules.head.Detect           [4, [320, 640, 1280]]         \n",
            "custom summary: 365 layers, 119833260 parameters, 119833244 gradients\n",
            "\n",
            "Ultralytics YOLOv8.0.147 🚀 Python-3.10.12 torch-2.0.1+cu118 CUDA:0 (Tesla T4, 15102MiB)\n",
            "\u001b[34m\u001b[1mengine/trainer: \u001b[0mtask=detect, mode=train, model=custom.yaml, data=config.yaml, epochs=1, patience=50, batch=16, imgsz=640, save=True, save_period=-1, cache=False, device=None, workers=8, project=None, name=None, exist_ok=False, pretrained=True, optimizer=auto, verbose=True, seed=0, deterministic=True, single_cls=False, rect=False, cos_lr=False, close_mosaic=10, resume=False, amp=True, fraction=1.0, profile=False, overlap_mask=True, mask_ratio=4, dropout=0.0, val=True, split=val, save_json=False, save_hybrid=False, conf=None, iou=0.7, max_det=300, half=False, dnn=False, plots=True, source=None, show=False, save_txt=False, save_conf=False, save_crop=False, show_labels=True, show_conf=True, vid_stride=1, line_width=None, visualize=False, augment=False, agnostic_nms=False, classes=None, retina_masks=False, boxes=True, format=torchscript, keras=False, optimize=False, int8=False, dynamic=False, simplify=False, opset=None, workspace=4, nms=False, lr0=0.01, lrf=0.01, momentum=0.937, weight_decay=0.0005, warmup_epochs=3.0, warmup_momentum=0.8, warmup_bias_lr=0.1, box=7.5, cls=0.5, dfl=1.5, pose=12.0, kobj=1.0, label_smoothing=0.0, nbs=64, hsv_h=0.015, hsv_s=0.7, hsv_v=0.4, degrees=0.0, translate=0.1, scale=0.5, shear=0.0, perspective=0.0, flipud=0.0, fliplr=0.5, mosaic=1.0, mixup=0.0, copy_paste=0.0, cfg=None, tracker=botsort.yaml, save_dir=runs/detect/train3\n",
            "WARNING ⚠️ no model scale passed. Assuming scale='x'.\n",
            "\n",
            "                   from  n    params  module                                       arguments                     \n",
            "  0                  -1  1      2320  ultralytics.nn.modules.conv.Conv             [3, 80, 3, 2]                 \n",
            "  1                  -1  1    115520  ultralytics.nn.modules.conv.Conv             [80, 160, 3, 2]               \n",
            "  2                  -1  3    436800  ultralytics.nn.modules.block.C2f             [160, 160, 3, True]           \n",
            "  3                  -1  1    461440  ultralytics.nn.modules.conv.Conv             [160, 320, 3, 2]              \n",
            "  4                  -1  6   3281920  ultralytics.nn.modules.block.C2f             [320, 320, 6, True]           \n",
            "  5                  -1  1   1844480  ultralytics.nn.modules.conv.Conv             [320, 640, 3, 2]              \n",
            "  6                  -1  6  13117440  ultralytics.nn.modules.block.C2f             [640, 640, 6, True]           \n",
            "  7                  -1  1   7375360  ultralytics.nn.modules.conv.Conv             [640, 1280, 3, 2]             \n",
            "  8                  -1  3  27865600  ultralytics.nn.modules.block.C2f             [1280, 1280, 3, True]         \n",
            "  9                  -1  1   4099840  ultralytics.nn.modules.block.SPPF            [1280, 1280, 5]               \n",
            " 10                  -1  1         0  torch.nn.modules.upsampling.Upsample         [None, 2, 'nearest']          \n",
            " 11             [-1, 6]  1         0  ultralytics.nn.modules.conv.Concat           [1]                           \n",
            " 12                  -1  3   7788800  ultralytics.nn.modules.block.C2f             [1920, 640, 3]                \n",
            " 13                  -1  1         0  torch.nn.modules.upsampling.Upsample         [None, 2, 'nearest']          \n",
            " 14             [-1, 4]  1         0  ultralytics.nn.modules.conv.Concat           [1]                           \n",
            " 15                  -1  3   1948800  ultralytics.nn.modules.block.C2f             [960, 320, 3]                 \n",
            " 16                  -1  1    922240  ultralytics.nn.modules.conv.Conv             [320, 320, 3, 2]              \n",
            " 17            [-1, 12]  1         0  ultralytics.nn.modules.conv.Concat           [1]                           \n",
            " 18                  -1  3   7174400  ultralytics.nn.modules.block.C2f             [960, 640, 3]                 \n",
            " 19                  -1  1   3687680  ultralytics.nn.modules.conv.Conv             [640, 640, 3, 2]              \n",
            " 20             [-1, 9]  1         0  ultralytics.nn.modules.conv.Concat           [1]                           \n",
            " 21                  -1  3  28684800  ultralytics.nn.modules.block.C2f             [1920, 1280, 3]               \n",
            " 22        [15, 18, 21]  1  11025820  ultralytics.nn.modules.head.Detect           [4, [320, 640, 1280]]         \n",
            "custom summary: 365 layers, 119833260 parameters, 119833244 gradients\n",
            "\n",
            "\u001b[34m\u001b[1mTensorBoard: \u001b[0mStart with 'tensorboard --logdir runs/detect/train3', view at http://localhost:6006/\n",
            "\u001b[34m\u001b[1mAMP: \u001b[0mrunning Automatic Mixed Precision (AMP) checks with YOLOv8n...\n",
            "\u001b[34m\u001b[1mAMP: \u001b[0mchecks passed ✅\n",
            "\u001b[34m\u001b[1mtrain: \u001b[0mScanning /content/gdrive/MyDrive/IntruderDetectionYOLOv8.v1i.yolov7pytorch/train/labels.cache... 522 images, 54 backgrounds, 0 corrupt: 100%|██████████| 522/522 [00:00<?, ?it/s]\n",
            "\u001b[34m\u001b[1malbumentations: \u001b[0mBlur(p=0.01, blur_limit=(3, 7)), MedianBlur(p=0.01, blur_limit=(3, 7)), ToGray(p=0.01), CLAHE(p=0.01, clip_limit=(1, 4.0), tile_grid_size=(8, 8))\n",
            "\u001b[34m\u001b[1mval: \u001b[0mScanning /content/gdrive/MyDrive/IntruderDetectionYOLOv8.v1i.yolov7pytorch/valid/labels.cache... 38 images, 3 backgrounds, 0 corrupt: 100%|██████████| 38/38 [00:00<?, ?it/s]\n",
            "Plotting labels to runs/detect/train3/labels.jpg... \n",
            "\u001b[34m\u001b[1moptimizer:\u001b[0m AdamW(lr=0.00125, momentum=0.9) with parameter groups 97 weight(decay=0.0), 104 weight(decay=0.0005), 103 bias(decay=0.0)\n",
            "Image sizes 640 train, 640 val\n",
            "Using 2 dataloader workers\n",
            "Logging results to \u001b[1mruns/detect/train3\u001b[0m\n",
            "Starting training for 1 epochs...\n",
            "\n",
            "      Epoch    GPU_mem   box_loss   cls_loss   dfl_loss  Instances       Size\n",
            "        1/1      14.2G      3.748      8.263      4.127         17        640: 100%|██████████| 33/33 [00:44<00:00,  1.36s/it]\n",
            "                 Class     Images  Instances      Box(P          R      mAP50  mAP50-95): 100%|██████████| 2/2 [00:02<00:00,  1.44s/it]\n",
            "                   all         38         44          0          0          0          0\n",
            "\n",
            "1 epochs completed in 0.021 hours.\n",
            "Optimizer stripped from runs/detect/train3/weights/last.pt, 240.1MB\n",
            "Optimizer stripped from runs/detect/train3/weights/best.pt, 240.1MB\n",
            "\n",
            "Validating runs/detect/train3/weights/best.pt...\n",
            "Ultralytics YOLOv8.0.147 🚀 Python-3.10.12 torch-2.0.1+cu118 CUDA:0 (Tesla T4, 15102MiB)\n",
            "custom summary (fused): 268 layers, 119796220 parameters, 0 gradients\n",
            "                 Class     Images  Instances      Box(P          R      mAP50  mAP50-95): 100%|██████████| 2/2 [00:01<00:00,  1.39it/s]\n",
            "                   all         38         44          0          0          0          0\n",
            "Speed: 0.2ms preprocess, 30.1ms inference, 0.0ms loss, 1.2ms postprocess per image\n",
            "Results saved to \u001b[1mruns/detect/train3\u001b[0m\n"
          ]
        }
      ]
    },
    {
      "cell_type": "code",
      "source": [
        "!yolo predict model=/content/runs/detect/train/weights/best.pt source=\"WhatsApp Video 2023-07-14 at 13.27.12.mp4\""
      ],
      "metadata": {
        "id": "5D5D_2qRKuiK",
        "colab": {
          "base_uri": "https://localhost:8080/"
        },
        "outputId": "218566ae-f22e-4350-dfe5-8bb971fd9c68"
      },
      "execution_count": 5,
      "outputs": [
        {
          "output_type": "stream",
          "name": "stdout",
          "text": [
            "Ultralytics YOLOv8.0.147 🚀 Python-3.10.12 torch-2.0.1+cu118 CUDA:0 (Tesla T4, 15102MiB)\n",
            "custom summary (fused): 168 layers, 3006428 parameters, 0 gradients\n",
            "\n",
            "video 1/1 (1/35) /content/WhatsApp Video 2023-07-14 at 13.27.12.mp4: 480x640 (no detections), 82.9ms\n",
            "video 1/1 (2/35) /content/WhatsApp Video 2023-07-14 at 13.27.12.mp4: 480x640 (no detections), 10.4ms\n",
            "video 1/1 (3/35) /content/WhatsApp Video 2023-07-14 at 13.27.12.mp4: 480x640 (no detections), 6.0ms\n",
            "video 1/1 (4/35) /content/WhatsApp Video 2023-07-14 at 13.27.12.mp4: 480x640 (no detections), 6.0ms\n",
            "video 1/1 (5/35) /content/WhatsApp Video 2023-07-14 at 13.27.12.mp4: 480x640 (no detections), 6.0ms\n",
            "video 1/1 (6/35) /content/WhatsApp Video 2023-07-14 at 13.27.12.mp4: 480x640 (no detections), 6.0ms\n",
            "video 1/1 (7/35) /content/WhatsApp Video 2023-07-14 at 13.27.12.mp4: 480x640 (no detections), 6.0ms\n",
            "video 1/1 (8/35) /content/WhatsApp Video 2023-07-14 at 13.27.12.mp4: 480x640 (no detections), 6.0ms\n",
            "video 1/1 (9/35) /content/WhatsApp Video 2023-07-14 at 13.27.12.mp4: 480x640 (no detections), 6.5ms\n",
            "video 1/1 (10/35) /content/WhatsApp Video 2023-07-14 at 13.27.12.mp4: 480x640 (no detections), 6.0ms\n",
            "video 1/1 (11/35) /content/WhatsApp Video 2023-07-14 at 13.27.12.mp4: 480x640 (no detections), 6.0ms\n",
            "video 1/1 (12/35) /content/WhatsApp Video 2023-07-14 at 13.27.12.mp4: 480x640 (no detections), 6.0ms\n",
            "video 1/1 (13/35) /content/WhatsApp Video 2023-07-14 at 13.27.12.mp4: 480x640 (no detections), 6.0ms\n",
            "video 1/1 (14/35) /content/WhatsApp Video 2023-07-14 at 13.27.12.mp4: 480x640 (no detections), 6.0ms\n",
            "video 1/1 (15/35) /content/WhatsApp Video 2023-07-14 at 13.27.12.mp4: 480x640 (no detections), 6.0ms\n",
            "video 1/1 (16/35) /content/WhatsApp Video 2023-07-14 at 13.27.12.mp4: 480x640 (no detections), 6.0ms\n",
            "video 1/1 (17/35) /content/WhatsApp Video 2023-07-14 at 13.27.12.mp4: 480x640 (no detections), 8.8ms\n",
            "video 1/1 (18/35) /content/WhatsApp Video 2023-07-14 at 13.27.12.mp4: 480x640 (no detections), 9.4ms\n",
            "video 1/1 (19/35) /content/WhatsApp Video 2023-07-14 at 13.27.12.mp4: 480x640 (no detections), 6.0ms\n",
            "video 1/1 (20/35) /content/WhatsApp Video 2023-07-14 at 13.27.12.mp4: 480x640 (no detections), 6.0ms\n",
            "video 1/1 (21/35) /content/WhatsApp Video 2023-07-14 at 13.27.12.mp4: 480x640 (no detections), 6.0ms\n",
            "video 1/1 (22/35) /content/WhatsApp Video 2023-07-14 at 13.27.12.mp4: 480x640 (no detections), 6.0ms\n",
            "video 1/1 (23/35) /content/WhatsApp Video 2023-07-14 at 13.27.12.mp4: 480x640 (no detections), 6.0ms\n",
            "video 1/1 (24/35) /content/WhatsApp Video 2023-07-14 at 13.27.12.mp4: 480x640 (no detections), 6.0ms\n",
            "video 1/1 (25/35) /content/WhatsApp Video 2023-07-14 at 13.27.12.mp4: 480x640 (no detections), 6.0ms\n",
            "video 1/1 (26/35) /content/WhatsApp Video 2023-07-14 at 13.27.12.mp4: 480x640 (no detections), 6.0ms\n",
            "video 1/1 (27/35) /content/WhatsApp Video 2023-07-14 at 13.27.12.mp4: 480x640 (no detections), 6.0ms\n",
            "video 1/1 (28/35) /content/WhatsApp Video 2023-07-14 at 13.27.12.mp4: 480x640 (no detections), 8.8ms\n",
            "video 1/1 (29/35) /content/WhatsApp Video 2023-07-14 at 13.27.12.mp4: 480x640 (no detections), 5.0ms\n",
            "video 1/1 (30/35) /content/WhatsApp Video 2023-07-14 at 13.27.12.mp4: 480x640 (no detections), 5.0ms\n",
            "video 1/1 (31/35) /content/WhatsApp Video 2023-07-14 at 13.27.12.mp4: 480x640 (no detections), 4.9ms\n",
            "video 1/1 (32/35) /content/WhatsApp Video 2023-07-14 at 13.27.12.mp4: 480x640 (no detections), 6.2ms\n",
            "video 1/1 (33/35) /content/WhatsApp Video 2023-07-14 at 13.27.12.mp4: 480x640 (no detections), 4.8ms\n",
            "video 1/1 (34/35) /content/WhatsApp Video 2023-07-14 at 13.27.12.mp4: 480x640 (no detections), 4.7ms\n",
            "video 1/1 (35/35) /content/WhatsApp Video 2023-07-14 at 13.27.12.mp4: 480x640 (no detections), 5.1ms\n",
            "Speed: 1.8ms preprocess, 8.4ms inference, 1.0ms postprocess per image at shape (1, 3, 480, 640)\n",
            "Results saved to \u001b[1mruns/detect/predict\u001b[0m\n"
          ]
        }
      ]
    },
    {
      "cell_type": "code",
      "source": [],
      "metadata": {
        "id": "1Hnlzjy1XDfj"
      },
      "execution_count": null,
      "outputs": []
    },
    {
      "cell_type": "code",
      "source": [
        "!yolo predict model=/content/runs/detect/train3/weights/best.pt source=\"WhatsApp Video 2023-07-13 at 15.51.41.mp4\""
      ],
      "metadata": {
        "colab": {
          "base_uri": "https://localhost:8080/"
        },
        "outputId": "9d47c9d9-5085-4ed9-8dbd-452531c02cbf",
        "id": "-T5AGKTuXEE-"
      },
      "execution_count": 8,
      "outputs": [
        {
          "output_type": "stream",
          "name": "stdout",
          "text": [
            "Ultralytics YOLOv8.0.147 🚀 Python-3.10.12 torch-2.0.1+cu118 CUDA:0 (Tesla T4, 15102MiB)\n",
            "custom summary (fused): 268 layers, 119796220 parameters, 0 gradients\n",
            "\n",
            "video 1/1 (1/19) /content/WhatsApp Video 2023-07-13 at 15.51.41.mp4: 384x640 (no detections), 108.5ms\n",
            "video 1/1 (2/19) /content/WhatsApp Video 2023-07-13 at 15.51.41.mp4: 384x640 (no detections), 55.0ms\n",
            "video 1/1 (3/19) /content/WhatsApp Video 2023-07-13 at 15.51.41.mp4: 384x640 (no detections), 55.0ms\n",
            "video 1/1 (4/19) /content/WhatsApp Video 2023-07-13 at 15.51.41.mp4: 384x640 (no detections), 53.4ms\n",
            "video 1/1 (5/19) /content/WhatsApp Video 2023-07-13 at 15.51.41.mp4: 384x640 (no detections), 46.5ms\n",
            "video 1/1 (6/19) /content/WhatsApp Video 2023-07-13 at 15.51.41.mp4: 384x640 (no detections), 44.9ms\n",
            "video 1/1 (7/19) /content/WhatsApp Video 2023-07-13 at 15.51.41.mp4: 384x640 (no detections), 46.3ms\n",
            "video 1/1 (8/19) /content/WhatsApp Video 2023-07-13 at 15.51.41.mp4: 384x640 (no detections), 45.3ms\n",
            "video 1/1 (9/19) /content/WhatsApp Video 2023-07-13 at 15.51.41.mp4: 384x640 (no detections), 46.3ms\n",
            "video 1/1 (10/19) /content/WhatsApp Video 2023-07-13 at 15.51.41.mp4: 384x640 (no detections), 45.9ms\n",
            "video 1/1 (11/19) /content/WhatsApp Video 2023-07-13 at 15.51.41.mp4: 384x640 (no detections), 44.8ms\n",
            "video 1/1 (12/19) /content/WhatsApp Video 2023-07-13 at 15.51.41.mp4: 384x640 (no detections), 47.0ms\n",
            "video 1/1 (13/19) /content/WhatsApp Video 2023-07-13 at 15.51.41.mp4: 384x640 (no detections), 44.9ms\n",
            "video 1/1 (14/19) /content/WhatsApp Video 2023-07-13 at 15.51.41.mp4: 384x640 (no detections), 47.6ms\n",
            "video 1/1 (15/19) /content/WhatsApp Video 2023-07-13 at 15.51.41.mp4: 384x640 (no detections), 44.9ms\n",
            "video 1/1 (16/19) /content/WhatsApp Video 2023-07-13 at 15.51.41.mp4: 384x640 (no detections), 46.7ms\n",
            "video 1/1 (17/19) /content/WhatsApp Video 2023-07-13 at 15.51.41.mp4: 384x640 (no detections), 44.8ms\n",
            "video 1/1 (18/19) /content/WhatsApp Video 2023-07-13 at 15.51.41.mp4: 384x640 (no detections), 46.4ms\n",
            "video 1/1 (19/19) /content/WhatsApp Video 2023-07-13 at 15.51.41.mp4: 384x640 (no detections), 46.0ms\n",
            "Speed: 1.1ms preprocess, 50.5ms inference, 5.9ms postprocess per image at shape (1, 3, 384, 640)\n",
            "Results saved to \u001b[1mruns/detect/predict3\u001b[0m\n"
          ]
        }
      ]
    }
  ]
}